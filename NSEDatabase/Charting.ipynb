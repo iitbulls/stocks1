{
 "metadata": {
  "name": ""
 },
 "nbformat": 3,
 "nbformat_minor": 0,
 "worksheets": [
  {
   "cells": [
    {
     "cell_type": "code",
     "collapsed": false,
     "input": [
      "import matplotlib.pyplot as plt\n",
      "from matplotlib.finance import candlestick as candlestick\n",
      "import pandas as pd\n",
      "import numpy as np\n",
      "import csvtodb as DB\n",
      "%matplotlib"
     ],
     "language": "python",
     "metadata": {},
     "outputs": [
      {
       "output_type": "stream",
       "stream": "stdout",
       "text": [
        "Using matplotlib backend: TkAgg\n"
       ]
      }
     ],
     "prompt_number": 206
    },
    {
     "cell_type": "code",
     "collapsed": false,
     "input": [
      "symbol = \"SBIN\"\n",
      "Datframe = DB.obtainQuotes(symbol)\n",
      "x = Datframe.index.searchsorted(datetime.datetime(2011, 1, 1))\n",
      "size = 100\n",
      "imageX = 18.5\n",
      "imageY = 10.5\n",
      "\n",
      "fig, ax1 = plt.subplots(1,1)\n",
      "fig.set_size_inches(imageX,imageY)\n",
      "Datframe1 = Datframe[x : x + size]\n",
      "quotes = []\n",
      "i = 0\n",
      "for date in Datframe1.index:\n",
      "    appendline = (i,Datframe1['Open'][date],Datframe1['Close'][date],Datframe1['High'][date],Datframe1['Low'][date])\n",
      "    quotes.append(appendline)\n",
      "    i=i+1\n",
      "\n",
      "Datframe1_mean = pd.rolling_mean(Datframe1['Close'],14)\n",
      "ax1.plot(Datframe1_mean.values)\n",
      "candlestick(ax1,quotes, width=0.4,colorup='g',colordown='r', alpha=1.0)\n",
      "ax1.set_xticks(np.arange(0,size)) \n",
      "ax1.set_xticklabels(Datframe1.index,rotation=70)\n",
      "ax1.autoscale_view()\n",
      "plt.show()"
     ],
     "language": "python",
     "metadata": {},
     "outputs": [],
     "prompt_number": 213
    },
    {
     "cell_type": "code",
     "collapsed": false,
     "input": [],
     "language": "python",
     "metadata": {},
     "outputs": []
    }
   ],
   "metadata": {}
  }
 ]
}